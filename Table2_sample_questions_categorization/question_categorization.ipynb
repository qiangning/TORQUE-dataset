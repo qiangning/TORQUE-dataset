{
 "cells": [
  {
   "cell_type": "code",
   "execution_count": 1,
   "metadata": {
    "scrolled": false
   },
   "outputs": [
    {
     "data": {
      "text/html": [
       "<div>\n",
       "<style scoped>\n",
       "    .dataframe tbody tr th:only-of-type {\n",
       "        vertical-align: middle;\n",
       "    }\n",
       "\n",
       "    .dataframe tbody tr th {\n",
       "        vertical-align: top;\n",
       "    }\n",
       "\n",
       "    .dataframe thead th {\n",
       "        text-align: right;\n",
       "    }\n",
       "</style>\n",
       "<table border=\"1\" class=\"dataframe\">\n",
       "  <thead>\n",
       "    <tr style=\"text-align: right;\">\n",
       "      <th></th>\n",
       "      <th>Unnamed: 0</th>\n",
       "      <th>question</th>\n",
       "      <th>category</th>\n",
       "    </tr>\n",
       "  </thead>\n",
       "  <tbody>\n",
       "    <tr>\n",
       "      <th>1</th>\n",
       "      <td>1</td>\n",
       "      <td>What event began before two dozen people were ...</td>\n",
       "      <td>begin</td>\n",
       "    </tr>\n",
       "    <tr>\n",
       "      <th>3</th>\n",
       "      <td>3</td>\n",
       "      <td>What event will begin?</td>\n",
       "      <td>begin</td>\n",
       "    </tr>\n",
       "    <tr>\n",
       "      <th>4</th>\n",
       "      <td>4</td>\n",
       "      <td>What happened after the rally began?</td>\n",
       "      <td>begin</td>\n",
       "    </tr>\n",
       "    <tr>\n",
       "      <th>5</th>\n",
       "      <td>5</td>\n",
       "      <td>What could happen after the downgrading?</td>\n",
       "      <td>uncertain</td>\n",
       "    </tr>\n",
       "    <tr>\n",
       "      <th>6</th>\n",
       "      <td>6</td>\n",
       "      <td>What event will not happen if the scheme is br...</td>\n",
       "      <td>hypo,neg</td>\n",
       "    </tr>\n",
       "    <tr>\n",
       "      <th>...</th>\n",
       "      <td>...</td>\n",
       "      <td>...</td>\n",
       "      <td>...</td>\n",
       "    </tr>\n",
       "    <tr>\n",
       "      <th>191</th>\n",
       "      <td>191</td>\n",
       "      <td>What is likely to happen after initiatives?</td>\n",
       "      <td>uncertain</td>\n",
       "    </tr>\n",
       "    <tr>\n",
       "      <th>195</th>\n",
       "      <td>195</td>\n",
       "      <td>What event will begin after the competition?</td>\n",
       "      <td>begin</td>\n",
       "    </tr>\n",
       "    <tr>\n",
       "      <th>196</th>\n",
       "      <td>196</td>\n",
       "      <td>What happened before Honore's department start...</td>\n",
       "      <td>begin</td>\n",
       "    </tr>\n",
       "    <tr>\n",
       "      <th>198</th>\n",
       "      <td>198</td>\n",
       "      <td>What started before the crackdown?</td>\n",
       "      <td>begin</td>\n",
       "    </tr>\n",
       "    <tr>\n",
       "      <th>199</th>\n",
       "      <td>199</td>\n",
       "      <td>What started before something was added?</td>\n",
       "      <td>begin</td>\n",
       "    </tr>\n",
       "  </tbody>\n",
       "</table>\n",
       "<p>94 rows × 3 columns</p>\n",
       "</div>"
      ],
      "text/plain": [
       "     Unnamed: 0                                           question   category\n",
       "1             1  What event began before two dozen people were ...      begin\n",
       "3             3                             What event will begin?      begin\n",
       "4             4               What happened after the rally began?      begin\n",
       "5             5           What could happen after the downgrading?  uncertain\n",
       "6             6  What event will not happen if the scheme is br...   hypo,neg\n",
       "..          ...                                                ...        ...\n",
       "191         191        What is likely to happen after initiatives?  uncertain\n",
       "195         195       What event will begin after the competition?      begin\n",
       "196         196  What happened before Honore's department start...      begin\n",
       "198         198                 What started before the crackdown?      begin\n",
       "199         199           What started before something was added?      begin\n",
       "\n",
       "[94 rows x 3 columns]"
      ]
     },
     "execution_count": 1,
     "metadata": {},
     "output_type": "execute_result"
    }
   ],
   "source": [
    "import pandas as pd\n",
    "df = pd.read_csv('./sample_questions_categorization.csv')\n",
    "df = df[pd.notna(df['category'])]\n",
    "df"
   ]
  },
  {
   "cell_type": "code",
   "execution_count": 2,
   "metadata": {},
   "outputs": [
    {
     "name": "stdout",
     "output_type": "stream",
     "text": [
      "Counter({'begin': 30, 'uncertain': 21, 'overlap': 21, 'multi': 14, 'neg': 10, 'restrict participants': 9, 'opinion': 6, 'hypo': 5, 'composition': 2, 'end': 2, 'intention': 2, 'restrict causality': 1, 'why': 1, 'repetitive': 1})\n"
     ]
    }
   ],
   "source": [
    "from collections import Counter\n",
    "categories = Counter()\n",
    "for index, row in df.iterrows():\n",
    "#     print([x.strip() for x in row['category'].split(',')])\n",
    "    if len(row['category'].split(','))>1:\n",
    "        categories['multi']+=1\n",
    "    for x in row['category'].split(','):\n",
    "        categories[x]+=1\n",
    "print(categories)"
   ]
  },
  {
   "cell_type": "code",
   "execution_count": 3,
   "metadata": {},
   "outputs": [
    {
     "name": "stdout",
     "output_type": "stream",
     "text": [
      "begin               :\t\t30/94=\t32%\n",
      "uncertain           :\t\t21/94=\t22%\n",
      "multi               :\t\t14/94=\t15%\n",
      "hypo                :\t\t5/94=\t5%\n",
      "neg                 :\t\t10/94=\t11%\n",
      "opinion             :\t\t6/94=\t6%\n",
      "restrict participants:\t\t9/94=\t10%\n",
      "composition         :\t\t2/94=\t2%\n",
      "end                 :\t\t2/94=\t2%\n",
      "restrict causality  :\t\t1/94=\t1%\n",
      "overlap             :\t\t21/94=\t22%\n",
      "why                 :\t\t1/94=\t1%\n",
      "intention           :\t\t2/94=\t2%\n",
      "repetitive          :\t\t1/94=\t1%\n"
     ]
    }
   ],
   "source": [
    "for k,c in categories.items():\n",
    "    print(f\"{k:20s}:\\t\\t{c}/{len(df)}=\\t{c/len(df)*100:.0f}%\")"
   ]
  },
  {
   "cell_type": "code",
   "execution_count": 4,
   "metadata": {},
   "outputs": [
    {
     "name": "stdout",
     "output_type": "stream",
     "text": [
      "begin               :\t\t30/200=\t15%\n",
      "uncertain           :\t\t21/200=\t10%\n",
      "multi               :\t\t14/200=\t7%\n",
      "hypo                :\t\t5/200=\t2%\n",
      "neg                 :\t\t10/200=\t5%\n",
      "opinion             :\t\t6/200=\t3%\n",
      "restrict participants:\t\t9/200=\t4%\n",
      "composition         :\t\t2/200=\t1%\n",
      "end                 :\t\t2/200=\t1%\n",
      "restrict causality  :\t\t1/200=\t0%\n",
      "overlap             :\t\t21/200=\t10%\n",
      "why                 :\t\t1/200=\t0%\n",
      "intention           :\t\t2/200=\t1%\n",
      "repetitive          :\t\t1/200=\t0%\n"
     ]
    }
   ],
   "source": [
    "for k,c in categories.items():\n",
    "    print(f\"{k:20s}:\\t\\t{c}/{200}=\\t{c/200*100:.0f}%\")"
   ]
  }
 ],
 "metadata": {
  "kernelspec": {
   "display_name": "Python 3",
   "language": "python",
   "name": "python3"
  },
  "language_info": {
   "codemirror_mode": {
    "name": "ipython",
    "version": 3
   },
   "file_extension": ".py",
   "mimetype": "text/x-python",
   "name": "python",
   "nbconvert_exporter": "python",
   "pygments_lexer": "ipython3",
   "version": "3.8.3"
  }
 },
 "nbformat": 4,
 "nbformat_minor": 2
}
